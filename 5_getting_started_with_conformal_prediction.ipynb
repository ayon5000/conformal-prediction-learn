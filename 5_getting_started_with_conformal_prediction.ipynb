{
 "cells": [
  {
   "cell_type": "markdown",
   "metadata": {},
   "source": [
    "##### Import Packages"
   ]
  },
  {
   "cell_type": "code",
   "execution_count": 1,
   "metadata": {},
   "outputs": [],
   "source": [
    "import os\n",
    "import wget\n",
    "import zipfile\n",
    "from os.path import exists\n",
    "import pandas as pd\n",
    "import numpy as np\n",
    "import matplotlib.pyplot as plt\n",
    "import seaborn as sns\n",
    "from sklearn.model_selection import train_test_split\n",
    "from sklearn.metrics import confusion_matrix\n",
    "from sklearn.preprocessing import LabelEncoder\n",
    "from sklearn.naive_bayes import GaussianNB\n",
    "pd.set_option('display.max_columns',None)"
   ]
  },
  {
   "cell_type": "markdown",
   "metadata": {},
   "source": [
    "##### Loading Data"
   ]
  },
  {
   "cell_type": "code",
   "execution_count": 2,
   "metadata": {},
   "outputs": [],
   "source": [
    "# Download if not available\n",
    "bean_data_file = \"./DryBeanDataset/Dry_Bean_Dataset.xlsx\"\n",
    "base = \"https://archive.ics.uci.edu/ml/machine-learning-databases/\"\n",
    "dataset_number = \"00602\"\n",
    "if not exists(bean_data_file):\n",
    "    filename = \"DryBeanDataset.zip\"\n",
    "    url = base + dataset_number + \"/\" + filename\n",
    "    wget.download(url)\n",
    "    with zipfile.ZipFile(filename, 'r') as zip_ref:\n",
    "        zip_ref.extractall('./')\n",
    "    os.remove(filename)"
   ]
  },
  {
   "cell_type": "code",
   "execution_count": 3,
   "metadata": {},
   "outputs": [
    {
     "name": "stdout",
     "output_type": "stream",
     "text": [
      "(13611, 17)\n"
     ]
    },
    {
     "data": {
      "text/html": [
       "<div>\n",
       "<style scoped>\n",
       "    .dataframe tbody tr th:only-of-type {\n",
       "        vertical-align: middle;\n",
       "    }\n",
       "\n",
       "    .dataframe tbody tr th {\n",
       "        vertical-align: top;\n",
       "    }\n",
       "\n",
       "    .dataframe thead th {\n",
       "        text-align: right;\n",
       "    }\n",
       "</style>\n",
       "<table border=\"1\" class=\"dataframe\">\n",
       "  <thead>\n",
       "    <tr style=\"text-align: right;\">\n",
       "      <th></th>\n",
       "      <th>Area</th>\n",
       "      <th>Perimeter</th>\n",
       "      <th>MajorAxisLength</th>\n",
       "      <th>MinorAxisLength</th>\n",
       "      <th>AspectRation</th>\n",
       "      <th>Eccentricity</th>\n",
       "      <th>ConvexArea</th>\n",
       "      <th>EquivDiameter</th>\n",
       "      <th>Extent</th>\n",
       "      <th>Solidity</th>\n",
       "      <th>roundness</th>\n",
       "      <th>Compactness</th>\n",
       "      <th>ShapeFactor1</th>\n",
       "      <th>ShapeFactor2</th>\n",
       "      <th>ShapeFactor3</th>\n",
       "      <th>ShapeFactor4</th>\n",
       "      <th>Class</th>\n",
       "    </tr>\n",
       "  </thead>\n",
       "  <tbody>\n",
       "    <tr>\n",
       "      <th>0</th>\n",
       "      <td>28395</td>\n",
       "      <td>610.291</td>\n",
       "      <td>208.178117</td>\n",
       "      <td>173.888747</td>\n",
       "      <td>1.197191</td>\n",
       "      <td>0.549812</td>\n",
       "      <td>28715</td>\n",
       "      <td>190.141097</td>\n",
       "      <td>0.763923</td>\n",
       "      <td>0.988856</td>\n",
       "      <td>0.958027</td>\n",
       "      <td>0.913358</td>\n",
       "      <td>0.007332</td>\n",
       "      <td>0.003147</td>\n",
       "      <td>0.834222</td>\n",
       "      <td>0.998724</td>\n",
       "      <td>SEKER</td>\n",
       "    </tr>\n",
       "    <tr>\n",
       "      <th>1</th>\n",
       "      <td>28734</td>\n",
       "      <td>638.018</td>\n",
       "      <td>200.524796</td>\n",
       "      <td>182.734419</td>\n",
       "      <td>1.097356</td>\n",
       "      <td>0.411785</td>\n",
       "      <td>29172</td>\n",
       "      <td>191.272750</td>\n",
       "      <td>0.783968</td>\n",
       "      <td>0.984986</td>\n",
       "      <td>0.887034</td>\n",
       "      <td>0.953861</td>\n",
       "      <td>0.006979</td>\n",
       "      <td>0.003564</td>\n",
       "      <td>0.909851</td>\n",
       "      <td>0.998430</td>\n",
       "      <td>SEKER</td>\n",
       "    </tr>\n",
       "    <tr>\n",
       "      <th>2</th>\n",
       "      <td>29380</td>\n",
       "      <td>624.110</td>\n",
       "      <td>212.826130</td>\n",
       "      <td>175.931143</td>\n",
       "      <td>1.209713</td>\n",
       "      <td>0.562727</td>\n",
       "      <td>29690</td>\n",
       "      <td>193.410904</td>\n",
       "      <td>0.778113</td>\n",
       "      <td>0.989559</td>\n",
       "      <td>0.947849</td>\n",
       "      <td>0.908774</td>\n",
       "      <td>0.007244</td>\n",
       "      <td>0.003048</td>\n",
       "      <td>0.825871</td>\n",
       "      <td>0.999066</td>\n",
       "      <td>SEKER</td>\n",
       "    </tr>\n",
       "    <tr>\n",
       "      <th>3</th>\n",
       "      <td>30008</td>\n",
       "      <td>645.884</td>\n",
       "      <td>210.557999</td>\n",
       "      <td>182.516516</td>\n",
       "      <td>1.153638</td>\n",
       "      <td>0.498616</td>\n",
       "      <td>30724</td>\n",
       "      <td>195.467062</td>\n",
       "      <td>0.782681</td>\n",
       "      <td>0.976696</td>\n",
       "      <td>0.903936</td>\n",
       "      <td>0.928329</td>\n",
       "      <td>0.007017</td>\n",
       "      <td>0.003215</td>\n",
       "      <td>0.861794</td>\n",
       "      <td>0.994199</td>\n",
       "      <td>SEKER</td>\n",
       "    </tr>\n",
       "    <tr>\n",
       "      <th>4</th>\n",
       "      <td>30140</td>\n",
       "      <td>620.134</td>\n",
       "      <td>201.847882</td>\n",
       "      <td>190.279279</td>\n",
       "      <td>1.060798</td>\n",
       "      <td>0.333680</td>\n",
       "      <td>30417</td>\n",
       "      <td>195.896503</td>\n",
       "      <td>0.773098</td>\n",
       "      <td>0.990893</td>\n",
       "      <td>0.984877</td>\n",
       "      <td>0.970516</td>\n",
       "      <td>0.006697</td>\n",
       "      <td>0.003665</td>\n",
       "      <td>0.941900</td>\n",
       "      <td>0.999166</td>\n",
       "      <td>SEKER</td>\n",
       "    </tr>\n",
       "  </tbody>\n",
       "</table>\n",
       "</div>"
      ],
      "text/plain": [
       "    Area  Perimeter  MajorAxisLength  MinorAxisLength  AspectRation  \\\n",
       "0  28395    610.291       208.178117       173.888747      1.197191   \n",
       "1  28734    638.018       200.524796       182.734419      1.097356   \n",
       "2  29380    624.110       212.826130       175.931143      1.209713   \n",
       "3  30008    645.884       210.557999       182.516516      1.153638   \n",
       "4  30140    620.134       201.847882       190.279279      1.060798   \n",
       "\n",
       "   Eccentricity  ConvexArea  EquivDiameter    Extent  Solidity  roundness  \\\n",
       "0      0.549812       28715     190.141097  0.763923  0.988856   0.958027   \n",
       "1      0.411785       29172     191.272750  0.783968  0.984986   0.887034   \n",
       "2      0.562727       29690     193.410904  0.778113  0.989559   0.947849   \n",
       "3      0.498616       30724     195.467062  0.782681  0.976696   0.903936   \n",
       "4      0.333680       30417     195.896503  0.773098  0.990893   0.984877   \n",
       "\n",
       "   Compactness  ShapeFactor1  ShapeFactor2  ShapeFactor3  ShapeFactor4  Class  \n",
       "0     0.913358      0.007332      0.003147      0.834222      0.998724  SEKER  \n",
       "1     0.953861      0.006979      0.003564      0.909851      0.998430  SEKER  \n",
       "2     0.908774      0.007244      0.003048      0.825871      0.999066  SEKER  \n",
       "3     0.928329      0.007017      0.003215      0.861794      0.994199  SEKER  \n",
       "4     0.970516      0.006697      0.003665      0.941900      0.999166  SEKER  "
      ]
     },
     "execution_count": 3,
     "metadata": {},
     "output_type": "execute_result"
    }
   ],
   "source": [
    "# Read in the data from Excel file\n",
    "bean_data_file = \"./DryBeanDataset/Dry_Bean_Dataset.xlsx\"\n",
    "beans = pd.read_excel(bean_data_file)\n",
    "print(beans.shape)\n",
    "beans.head()"
   ]
  },
  {
   "cell_type": "markdown",
   "metadata": {},
   "source": [
    "The model was trained in ancient times by some legendary dude who left the\n",
    "company a long time ago. It’s a Naive Bayes model. And it sucks. This is his\n",
    "code:"
   ]
  },
  {
   "cell_type": "code",
   "execution_count": 4,
   "metadata": {},
   "outputs": [],
   "source": [
    "# Labels are characters but should be integers for sklearn\n",
    "le = LabelEncoder()\n",
    "beans[\"Class\"] = le.fit_transform(beans[\"Class\"])\n",
    "# Split data into classification target and features\n",
    "y = beans[\"Class\"]\n",
    "X = beans.drop(\"Class\", axis = 1)\n",
    "# Split of training data\n",
    "X_train, X_rest1, y_train, y_rest1 = train_test_split(\n",
    "X, y, train_size=10000, random_state=2\n",
    ")\n",
    "# From the remaining data, split of test data\n",
    "X_test, X_rest2, y_test, y_rest2 = train_test_split(\n",
    "X_rest1, y_rest1, train_size=1000, random_state=42\n",
    ")\n",
    "# Split remaining into calibration and \"new\" data\n",
    "X_calib, X_new, y_calib, y_new = train_test_split(\n",
    "X_rest2, y_rest2, train_size=1000, random_state=42\n",
    ")\n",
    "# Fit the model\n",
    "model = GaussianNB().fit(X_train, y_train)"
   ]
  },
  {
   "cell_type": "markdown",
   "metadata": {},
   "source": [
    "Instead of splitting the data only into training and testing, we split the 13,611\n",
    "beans into:\n",
    "- 10,000 data samples (X_train, y_train) for training the model\n",
    "- 1,000 data samples (X_test, y_test) for evaluating model performance\n",
    "- 1,000 data samples (X_calib, y_calib) for calibration (more on that later)\n",
    "- The remaining 1,611 data samples (X_new, y_new) for the conformal prediction step and for evaluating the conformal predictor (more on that later)\n",
    "\n",
    "The dude didn’t even bother to tune hyperparameters or do model selection.\n",
    "Yikes. Well, let’s have a look at the predictive performance:"
   ]
  },
  {
   "cell_type": "code",
   "execution_count": 5,
   "metadata": {},
   "outputs": [
    {
     "name": "stdout",
     "output_type": "stream",
     "text": [
      "Accuracy: 0.758\n",
      "          BARBUNYA  BOMBAY  CALI  DERMASON  HOROZ  SEKER  SIRA\n",
      "BARBUNYA        46       0    47         0      6      0     4\n",
      "BOMBAY           0      33     0         0      0      0     0\n",
      "CALI            20       0    81         0      3      0     0\n",
      "DERMASON         0       0     0       223      0     32     9\n",
      "HOROZ            0       0     4         3    104      0    22\n",
      "SEKER            2       0     0        26      1    127    22\n",
      "SIRA             0       0     0        10     10     21   144\n"
     ]
    }
   ],
   "source": [
    "# Check accuracy\n",
    "y_pred = model.predict(X_test)\n",
    "print(\"Accuracy:\", (y_pred == y_test).mean())\n",
    "# Create the confusion matrix\n",
    "cm = confusion_matrix(y_test, y_pred)\n",
    "print(pd.DataFrame(cm, index=le.classes_, columns=le.classes_))"
   ]
  },
  {
   "cell_type": "markdown",
   "metadata": {},
   "source": [
    "75.80% of the beans in the test data are classified correctly.\n",
    "\n",
    "The classes seem to have different classification difficulties, for example Bombay\n",
    "is always classified correctly in the test data, but Barbunya only half of the time.\n",
    "\n",
    "The dry bean company is in trouble. Several customers have complained that\n",
    "they bought bags of one variety of beans but there were too many beans of other\n",
    "varieties mixed in.\n",
    "\n",
    "The bean company holds an emergency meeting and it’s decided that they will\n",
    "offer premium products with a guaranteed percentage of the advertised bean\n",
    "variety. For example, a bag labeled “Seker” should contain at least 95% Seker\n",
    "beans"
   ]
  },
  {
   "cell_type": "markdown",
   "metadata": {},
   "source": [
    "##### First try: a naive approach\n",
    "\n",
    "Great, now all the pressure is on the data scientist to provide such guarantees all based on this bad model. Her first approach is the “naive approach” to uncertainty which means taking the probability outputs and believing in them. So instead of just using the class, she takes the predicted probability score, and if that score is above 95%, the bean makes it into the 95% bag.\n",
    "\n",
    "It’s not yet clear what to do with beans that don’t make the cut for any of the classes, but stew seems to be the most popular option among the employees. The data scientist doesn’t fully trust the model scores, so she checks the coverage of the naive approach. Fortunately, she has access to new, labeled data that she can use to estimate how well her approach is working.\n",
    "\n",
    "She obtains the probability predictions for the new data, keeps only beans with >=0.95 predicted probability, and checks how often the ground truth is actually in that 95% bag."
   ]
  },
  {
   "cell_type": "code",
   "execution_count": 6,
   "metadata": {},
   "outputs": [
    {
     "name": "stdout",
     "output_type": "stream",
     "text": [
      "0.896\n"
     ]
    }
   ],
   "source": [
    "# Get the \"probabilities\" from the model\n",
    "predictions = model.predict_proba(X_calib)\n",
    "# Get for each instance the highest probability\n",
    "high_prob_predictions = np.amax(predictions, axis=1)\n",
    "# Select the predictions where probability over 99%\n",
    "high_p_beans = np.where(high_prob_predictions >= 0.95)\n",
    "# Let's count how often we hit the right label\n",
    "its_a_match = (model.predict(X_calib) == y_calib)\n",
    "coverage = np.mean(its_a_match.values[high_p_beans])\n",
    "print(round(coverage, 3))"
   ]
  },
  {
   "cell_type": "markdown",
   "metadata": {},
   "source": [
    "Ideally, 95% or more of the beans should have the predicted class, but she finds that the 95%-bag only contains 89.6% of the correct variety.\n",
    "\n",
    "Now what?\n",
    "\n",
    "She could use methods such as Platt scaling or isotonic regression to calibrate these probabilities, but again, with no guarantee of correct coverage for new data.\n",
    "\n",
    "But she has an idea.\n",
    "\n",
    "#####  Second try: conformal classification\n",
    "\n",
    "The data scientist decides to think about the problem in a different way: she doesn’t start with the probability scores, but with how she can get a 95% coverage guarantee.\n",
    "\n",
    "Can she produce a set of predictions for each bean that covers the true class with 95% probability? It seems to be a matter of finding the right threshold.\n",
    "\n",
    "So she does the following:\n",
    "\n",
    "She ignores that the output could be a probability. Instead, she uses the model “probabilities” to construct a measure of uncertainty:\n",
    "\n",
    "𝑠<sub>𝑖</sub> = 1 − 𝑓(𝑥<sub>𝑖</sub>)[𝑦<sub>𝑖</sub>]\n",
    "\n",
    "A slightly sloppy notation for saying that we take 1 minus the model score for the true class. For example, if the ground truth for bean number 8 is “Seker” and the probability score for Seker is 0.9, then 𝑠<sub>8</sub> = 0.1. In conformal prediction language, this 𝑠<sub>𝑖</sub>-score is called non-conformity score.\n",
    "\n",
    "Then she does the following to find the threshold:\n",
    "1. Start with data not used for model training\n",
    "2. Calculate the scores 𝑠<sub>𝑖</sub>\n",
    "3. Sort the scores from low (certain) to high (uncertain) : This step seems to be immaterial\n",
    "4. Compute the threshold ̂𝑞 where 95% of the 𝑠<sub>𝑖</sub>’s are smaller (=95% quantile)\n",
    "\n",
    "The threshold is therefore chosen to cover 95% of the true bean classes.\n",
    "\n",
    "\n"
   ]
  },
  {
   "cell_type": "code",
   "execution_count": 12,
   "metadata": {},
   "outputs": [],
   "source": [
    "# Size of calibration data\n",
    "n = len(X_calib)\n",
    "# Get the probability predictions\n",
    "predictions = model.predict_proba(X_calib)\n",
    "# We only need the probability for the true class\n",
    "prob_true_class = predictions[np.arange(n),y_calib]\n",
    "# Turn into uncertainty score (larger means more uncertain)\n",
    "scores = 1 - prob_true_class"
   ]
  },
  {
   "cell_type": "markdown",
   "metadata": {},
   "source": [
    "Next, she has to find the cut-of"
   ]
  },
  {
   "cell_type": "code",
   "execution_count": 28,
   "metadata": {},
   "outputs": [
    {
     "data": {
      "text/plain": [
       "(np.float64(0.951), np.float64(0.9990629054637845))"
      ]
     },
     "execution_count": 28,
     "metadata": {},
     "output_type": "execute_result"
    }
   ],
   "source": [
    "# Setting the alpha so that we get 95% prediction sets\n",
    "alpha = 0.05\n",
    "# define quantile\n",
    "q_level = np.ceil((n+1)*(1-alpha))/n\n",
    "qhat = np.quantile(scores, q_level, method='higher')\n",
    "q_level, qhat"
   ]
  },
  {
   "cell_type": "markdown",
   "metadata": {},
   "source": [
    "The quantile level (based on 𝛼) requires a finite sample correction to calculate the corresponding quantile . In this case, the 0.95 was multiplied with (n+1)/n ̂𝑞 which means that 𝑞<sub>𝑙𝑒𝑣𝑒𝑙</sub> = 0.951 for n = 1000.\n",
    "\n",
    "If we visualize the scores, we can see that it’s a matter of cutting off at the right\n",
    "position:"
   ]
  },
  {
   "cell_type": "code",
   "execution_count": 29,
   "metadata": {},
   "outputs": [
    {
     "data": {
      "image/png": "[encoded data removed]",
      "text/plain": [
       "<Figure size 640x480 with 1 Axes>"
      ]
     },
     "metadata": {},
     "output_type": "display_data"
    }
   ],
   "source": [
    "# Get the \"probabilities\" from the model\n",
    "predictions = model.predict_proba(X_calib)\n",
    "# Get for each instance the actual probability of ground truth\n",
    "prob_for_true_class = predictions[np.arange(len(y_calib)),y_calib]\n",
    "# Create a histogram\n",
    "plt.hist(1 - prob_for_true_class, bins=30, range=(0, 1))\n",
    "# Add a title and labels\n",
    "plt.xlabel(\"1 - s(y,x)\")\n",
    "plt.ylabel(\"Frequency\")\n",
    "plt.show()"
   ]
  },
  {
   "cell_type": "markdown",
   "metadata": {},
   "source": [
    "How does the threshold come into play?\n",
    "\n",
    "For the figure above, we would cut off all above ̂𝑞 = 0.99906. Because for bean scores 𝑠<sub>𝑖</sub> below 0.99906 (equivalent to class “probabilities” > 0.001), we can be confident that we have the right class included (in the prediction set) 95% of the time.\n",
    "\n",
    "But there’s a catch: For some data points, there will be more than one class that makes the cut. But prediction sets are not a bug, they are a feature of conformal prediction.\n",
    "\n",
    "What is a prediction set?\n",
    "\n",
    "A prediction set – for multi-class tasks – is a set of one or more classes. Conformal classification gives you a set for each instance.\n",
    "\n",
    "To generate the prediction sets for a new data point, the data scientist has to combine all classes that are below the threshold ̂𝑞 into a set"
   ]
  },
  {
   "cell_type": "markdown",
   "metadata": {},
   "source": [
    "Let’s look at the prediction sets for 3 “new” beans (X_new):"
   ]
  },
  {
   "cell_type": "code",
   "execution_count": 31,
   "metadata": {},
   "outputs": [],
   "source": [
    "prediction_sets = (1 - model.predict_proba(X_new) <= qhat)"
   ]
  },
  {
   "cell_type": "code",
   "execution_count": 32,
   "metadata": {},
   "outputs": [
    {
     "name": "stdout",
     "output_type": "stream",
     "text": [
      "['DERMASON']\n",
      "['DERMASON']\n",
      "['DERMASON' 'SEKER']\n"
     ]
    }
   ],
   "source": [
    "for i in range(3):\n",
    "    print(le.classes_[prediction_sets[i]])"
   ]
  },
  {
   "cell_type": "markdown",
   "metadata": {},
   "source": [
    "On average, the prediction sets cover the true class with a probability of 95%. That’s the guarantee we get from the conformal procedure.\n",
    "\n",
    "How could the bean company work with such prediction sets? The first set has\n",
    "only 1 bean variety “DERMASON”, so it would go into a DERMASON bag.\n",
    "Beans #3 has a prediction set with two varieties. Maybe a chance to offer bean\n",
    "products with guaranteed coverage, but containing two varieties? Anything with\n",
    "more categories could be sorted manually, or the CEO could finally make bean\n",
    "stew for everyone.\n",
    "\n",
    "The CEO is now more relaxed and confident in the product.\n",
    "\n",
    "Spoiler alert: the coverage guarantees don’t work the way the bean CEO thinks\n",
    "they do, as we will soon learn (what they actually need is a class-wise coverage\n",
    "guarantee that we will learn about in the classification chapter.)\n",
    "\n",
    "And that’s it. You have just seen conformal prediction in action. To be exact,\n",
    "this was the score method that you will encounter again in the classification\n",
    "chapter.\n"
   ]
  },
  {
   "cell_type": "markdown",
   "metadata": {},
   "source": [
    "##### Getting started with MAPIE\n",
    "\n",
    "The data scientist could also have used MAPIE4 , a Python library for conformal prediction.\n"
   ]
  },
  {
   "cell_type": "code",
   "execution_count": 33,
   "metadata": {},
   "outputs": [],
   "source": [
    "from mapie.classification import MapieClassifier\n",
    "cp = MapieClassifier(estimator=model, cv=\"prefit\", method=\"lac\") #lac was previously the \"score\" method\n",
    "cp.fit(X_calib, y_calib)\n",
    "y_pred, y_set = cp.predict(X_new, alpha=0.05)\n",
    "y_set = np.squeeze(y_set)"
   ]
  },
  {
   "attachments": {
    "image.png": {
     "image/png": "[encoded data removed]"
    }
   },
   "cell_type": "markdown",
   "metadata": {},
   "source": [
    "We’re no longer working with the Naive Bayes model object, but our model is\n",
    "now a MapieClassifier object. If you are familiar with the sklearn library, it will\n",
    "feel natural to work with objects in MAPIE. These MAPIE objects have a .fitfunction and a .predict()-function, just like sklearn models do. MapieClassifier\n",
    "can be thought of as wrapper around our original model.\n",
    "\n",
    "![image.png](attachment:image.png)\n",
    "\n",
    "And when we use the “predict” method of this conformal classifier, we get both the\n",
    "usual prediction (“y_pred”) and the sets from the conformal prediction (“y_set”).\n",
    "It’s possible to specify more than one value for 𝛼. But in the code above only 1\n",
    "value was specified, so the resulting y_set is an array of shape (1000, 7, 1), which\n",
    "means 1000 data points, 7 classes, and 1 𝛼. The np.squeeze function removes the\n",
    "last dimension.\n",
    "\n",
    "Let’s have a look at some of the resulting prediction sets. Since the cp_score\n",
    "only contains “True” and “False” at the corresponding class indices, we have to\n",
    "use the class labels to get readable results. Here are the first 5 prediction sets for\n",
    "the beans:"
   ]
  },
  {
   "cell_type": "code",
   "execution_count": 34,
   "metadata": {},
   "outputs": [
    {
     "name": "stdout",
     "output_type": "stream",
     "text": [
      "['DERMASON']\n",
      "['DERMASON']\n",
      "['DERMASON' 'SEKER']\n",
      "['DERMASON']\n",
      "['DERMASON' 'SEKER']\n"
     ]
    }
   ],
   "source": [
    "for i in range(5):\n",
    "    print(le.classes_[y_set[i]])"
   ]
  },
  {
   "cell_type": "code",
   "execution_count": 38,
   "metadata": {},
   "outputs": [
    {
     "data": {
      "text/plain": [
       "array(['BARBUNYA', 'BOMBAY', 'CALI', 'DERMASON', 'HOROZ', 'SEKER', 'SIRA'],\n",
       "      dtype=object)"
      ]
     },
     "execution_count": 38,
     "metadata": {},
     "output_type": "execute_result"
    }
   ],
   "source": [
    "le.classes_"
   ]
  },
  {
   "cell_type": "code",
   "execution_count": 37,
   "metadata": {},
   "outputs": [
    {
     "data": {
      "text/plain": [
       "np.int64(3)"
      ]
     },
     "execution_count": 37,
     "metadata": {},
     "output_type": "execute_result"
    }
   ],
   "source": [
    "y_pred[2]"
   ]
  },
  {
   "cell_type": "code",
   "execution_count": 36,
   "metadata": {},
   "outputs": [
    {
     "data": {
      "text/plain": [
       "array([False, False, False,  True, False,  True, False])"
      ]
     },
     "execution_count": 36,
     "metadata": {},
     "output_type": "execute_result"
    }
   ],
   "source": [
    "y_set[2]"
   ]
  },
  {
   "cell_type": "markdown",
   "metadata": {},
   "source": [
    "These prediction sets are of size 1 or 2. Let’s have a look at all the other beans\n",
    "in X_new:"
   ]
  },
  {
   "cell_type": "code",
   "execution_count": 42,
   "metadata": {},
   "outputs": [
    {
     "name": "stdout",
     "output_type": "stream",
     "text": [
      "2    0.540658\n",
      "1    0.314091\n",
      "3    0.144631\n",
      "4    0.000621\n",
      "Name: proportion, dtype: float64\n"
     ]
    }
   ],
   "source": [
    "# first count number of classes per bean\n",
    "set_sizes = y_set.sum(axis=1)\n",
    "# use pandas to compute how often each size occurs\n",
    "print(pd.Series(set_sizes).value_counts(normalize=True))\n"
   ]
  }
 ],
 "metadata": {
  "kernelspec": {
   "display_name": "venv",
   "language": "python",
   "name": "python3"
  },
  "language_info": {
   "codemirror_mode": {
    "name": "ipython",
    "version": 3
   },
   "file_extension": ".py",
   "mimetype": "text/x-python",
   "name": "python",
   "nbconvert_exporter": "python",
   "pygments_lexer": "ipython3",
   "version": "3.11.9"
  }
 },
 "nbformat": 4,
 "nbformat_minor": 2
}
